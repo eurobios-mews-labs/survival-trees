{
 "cells": [
  {
   "cell_type": "raw",
   "id": "aed85b59",
   "metadata": {},
   "source": [
    "---\n",
    "execute:\n",
    "    echo: false\n",
    "    warning: false\n",
    "    \n",
    "format:\n",
    "    html:\n",
    "        theme: \"theme_ipol.scss\"\n",
    "        self-contained: true\n",
    "\n",
    "---"
   ]
  },
  {
   "cell_type": "markdown",
   "id": "308fdf64",
   "metadata": {},
   "source": [
    "# Survival Forest for LTRC data"
   ]
  },
  {
   "cell_type": "code",
   "execution_count": 2,
   "id": "cdf01ab9",
   "metadata": {},
   "outputs": [
    {
     "name": "stdout",
     "output_type": "stream",
     "text": [
      "Proportion of censored event 0.475\n",
      "Average duration 0.02670637525582452\n",
      "Average truncated subjects 0.07425000000000004\n"
     ]
    }
   ],
   "source": [
    "import imageio\n",
    "from IPython.display import display, Image\n",
    "\n",
    "import sys\n",
    "sys.path.append(\"../\")\n",
    "import matplotlib.pyplot as plot\n",
    "import numpy as np\n",
    "import pandas as pd\n",
    "import seaborn as sns\n",
    "from lifelines import datasets\n",
    "from lifelines.fitters import coxph_fitter, log_logistic_aft_fitter\n",
    "from lifelines.plotting import plot_lifetimes\n",
    "from sklearn.model_selection import train_test_split\n",
    "\n",
    "from benchmark import synthetic\n",
    "from survival_trees import LTRCTrees, RandomForestLTRCFitter, RandomForestLTRC, LTRCTreesFitter\n",
    "from survival_trees import plotting\n",
    "from survival_trees.metric import concordance_index, time_dependent_roc"
   ]
  },
  {
   "cell_type": "code",
   "execution_count": null,
   "id": "fdc39386",
   "metadata": {
    "scrolled": true
   },
   "outputs": [],
   "source": [
    "ltrc_forest = RandomForestLTRCFitter(\n",
    "            n_estimators=20,\n",
    "            min_samples_leaf=3,\n",
    "            max_samples=0.8)"
   ]
  },
  {
   "cell_type": "code",
   "execution_count": null,
   "id": "83c88ee4",
   "metadata": {},
   "outputs": [],
   "source": []
  },
  {
   "cell_type": "code",
   "execution_count": null,
   "id": "86f9ad64",
   "metadata": {},
   "outputs": [],
   "source": [
    "data = pd.read_csv(\"./dataset.csv\")"
   ]
  },
  {
   "cell_type": "code",
   "execution_count": null,
   "id": "c15b6830",
   "metadata": {},
   "outputs": [],
   "source": [
    "data[\"entry_date\"] = 0\n",
    "y = data[[\"entry_date\", \"time\", \"death\"]]\n",
    "X = data.drop(columns=y.columns.tolist())\n",
    "x_train, x_test, y_train, y_test = train_test_split(\n",
    "            X, y, train_size=0.6)\n",
    "ltrc_forest.fit(\n",
    "    pd.concat((x_train, y_train), axis=1).dropna(),\n",
    "    entry_col=y_train.columns[0],\n",
    "    duration_col=y_train.columns[1],\n",
    "    event_col=y_train.columns[2]\n",
    "                        )\n",
    "test = 1 - ltrc_forest.predict_cumulative_hazard(\n",
    "    x_test).astype(float).T\n",
    "test = test.dropna()\n",
    "c_index = concordance_index(\n",
    "    test, death=y_test.loc[test.index].iloc[:, 2],\n",
    "    censoring_time=y_test.loc[test.index].iloc[:, 1])\n",
    "result = np.nanmean(c_index)\n",
    "\n",
    "print(result)"
   ]
  },
  {
   "cell_type": "code",
   "execution_count": null,
   "id": "25764b18",
   "metadata": {},
   "outputs": [],
   "source": []
  }
 ],
 "metadata": {
  "kernelspec": {
   "display_name": "Python 3 (ipykernel)",
   "language": "python",
   "name": "python3"
  },
  "language_info": {
   "codemirror_mode": {
    "name": "ipython",
    "version": 3
   },
   "file_extension": ".py",
   "mimetype": "text/x-python",
   "name": "python",
   "nbconvert_exporter": "python",
   "pygments_lexer": "ipython3",
   "version": "3.8.0"
  }
 },
 "nbformat": 4,
 "nbformat_minor": 5
}
